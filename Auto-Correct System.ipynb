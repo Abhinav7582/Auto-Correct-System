{
 "cells": [
  {
   "cell_type": "markdown",
   "id": "6062384c",
   "metadata": {},
   "source": [
    "# Auto-Correct System"
   ]
  },
  {
   "cell_type": "markdown",
   "id": "92d28eb1",
   "metadata": {},
   "source": [
    "We use autocorrect every day on your cell phone and computer. In this project, we will build a model that is able to predict the probability of occurance of the particular word in any sentence. The model we are about to implement is not identical to the one used in our phones, but it is still very robust and effective.\n",
    "\n",
    "In this project we are trying to:\n",
    "\n",
    "1. Get a word count given a corpus.\n",
    "2. Get a word probability in the corpus.\n",
    "3. Manipulate strings.\n",
    "4. Filter strings.\n",
    "5. Implement Minimum edit distance to compare strings and to help find the optimal path for the edits.\n",
    "6. Use dynamic programming."
   ]
  },
  {
   "cell_type": "markdown",
   "id": "d4640278",
   "metadata": {},
   "source": [
    "# Data Preprocessing"
   ]
  },
  {
   "cell_type": "code",
   "execution_count": 1,
   "id": "54c65929",
   "metadata": {},
   "outputs": [],
   "source": [
    "import re\n",
    "from collections import Counter\n",
    "import numpy as np\n",
    "import pandas as pd"
   ]
  },
  {
   "cell_type": "code",
   "execution_count": 2,
   "id": "20fe0b70",
   "metadata": {},
   "outputs": [],
   "source": [
    "def process_data(file_name):\n",
    "    words = []\n",
    "\n",
    "    with open(file_name) as f:\n",
    "        file_name_d = f.read()\n",
    "    \n",
    "    file_name_d = file_name_d.lower()\n",
    "    words = re.findall('\\w+', file_name_d)\n",
    "    \n",
    "    return words"
   ]
  },
  {
   "cell_type": "code",
   "execution_count": 3,
   "id": "1d93e8cf",
   "metadata": {},
   "outputs": [
    {
     "name": "stdout",
     "output_type": "stream",
     "text": [
      "The first ten words in the text are: \n",
      " ['o', 'for', 'a', 'muse', 'of', 'fire', 'that', 'would', 'ascend', 'the', 'brightest', 'heaven', 'of', 'invention', 'a', 'kingdom', 'for', 'a', 'stage', 'princes', 'to', 'act', 'and', 'monarchs', 'to', 'behold', 'the', 'swelling', 'scene', 'then']\n",
      "There are 6116 unique words in the vocabulary.\n"
     ]
    }
   ],
   "source": [
    "word_l = process_data('shakespeare.txt')\n",
    "vocab = set(word_l)\n",
    "\n",
    "print(f\"The first ten words in the text are: \\n {word_l[0 : 30]}\")\n",
    "print(f\"There are {len(vocab)} unique words in the vocabulary.\")"
   ]
  },
  {
   "cell_type": "code",
   "execution_count": 4,
   "id": "b74e7ef5",
   "metadata": {},
   "outputs": [],
   "source": [
    "def get_count(word_l):\n",
    "    word_count_dict = {}\n",
    "    word_count_dict = Counter(word_l)   \n",
    "\n",
    "    return word_count_dict"
   ]
  },
  {
   "cell_type": "code",
   "execution_count": 5,
   "id": "42ce672b",
   "metadata": {},
   "outputs": [
    {
     "name": "stdout",
     "output_type": "stream",
     "text": [
      "There are 6116 key values pairs\n",
      "The count for the word 'a' is 757\n"
     ]
    }
   ],
   "source": [
    "word_count_dict = get_count(word_l)\n",
    "\n",
    "print(f\"There are {len(word_count_dict)} key values pairs\")\n",
    "print(f\"The count for the word 'a' is {word_count_dict.get('a', 0)}\")"
   ]
  },
  {
   "cell_type": "code",
   "execution_count": 6,
   "id": "7e0bf9b8",
   "metadata": {},
   "outputs": [],
   "source": [
    "def get_probs(word_count_dict):\n",
    "    probs = {}\n",
    "\n",
    "    m = sum(word_count_dict.values())\n",
    "    \n",
    "    for keys in word_count_dict.keys():\n",
    "        probs[keys] = word_count_dict[keys] / m\n",
    "\n",
    "    return probs"
   ]
  },
  {
   "cell_type": "code",
   "execution_count": 7,
   "id": "c9fbe4d7",
   "metadata": {},
   "outputs": [
    {
     "name": "stdout",
     "output_type": "stream",
     "text": [
      "Length of probs is 6116\n",
      "P('a') is 0.014119\n"
     ]
    }
   ],
   "source": [
    "probs = get_probs(word_count_dict)\n",
    "\n",
    "print(f\"Length of probs is {len(probs)}\")\n",
    "print(f\"P('a') is {probs['a']:.6f}\")"
   ]
  },
  {
   "cell_type": "markdown",
   "id": "ce9d2ddd",
   "metadata": {},
   "source": [
    "# String Manipulations"
   ]
  },
  {
   "cell_type": "markdown",
   "id": "88f6a9a7",
   "metadata": {},
   "source": [
    "1. delete_letter: given a word, it returns all the possible strings that have one character removed.\n",
    "2. switch_letter: given a word, it returns all the possible strings that have two adjacent letters switched.\n",
    "3. replace_letter: given a word, it returns all the possible strings that have one character replaced by another different letter.\n",
    "4. insert_letter: given a word, it returns all the possible strings that have an additional character inserted."
   ]
  },
  {
   "cell_type": "code",
   "execution_count": 8,
   "id": "f81294f4",
   "metadata": {},
   "outputs": [],
   "source": [
    "def delete_letter(word, verbose=False):\n",
    "    delete_l = []\n",
    "    split_l = []\n",
    "    \n",
    "    for c in range(len(word)):\n",
    "            split_l.append((word[:c], word[c:]))\n",
    "            \n",
    "    for a,b in split_l :\n",
    "        delete_l.append(a + b[1:])\n",
    "\n",
    "    if verbose: \n",
    "        print(f\"input word {word}, \\nsplit_l = {split_l}, \\ndelete_l = {delete_l}\")\n",
    "\n",
    "    return delete_l"
   ]
  },
  {
   "cell_type": "code",
   "execution_count": 9,
   "id": "1fcb8331",
   "metadata": {},
   "outputs": [
    {
     "name": "stdout",
     "output_type": "stream",
     "text": [
      "input word core, \n",
      "split_l = [('', 'core'), ('c', 'ore'), ('co', 're'), ('cor', 'e')], \n",
      "delete_l = ['ore', 'cre', 'coe', 'cor']\n"
     ]
    }
   ],
   "source": [
    "delete_word_l = delete_letter(word = \"core\", verbose = True)"
   ]
  },
  {
   "cell_type": "code",
   "execution_count": 10,
   "id": "cf709096",
   "metadata": {},
   "outputs": [
    {
     "name": "stdout",
     "output_type": "stream",
     "text": [
      "Number of outputs of delete_letter('at') is 2\n"
     ]
    }
   ],
   "source": [
    "print(f\"Number of outputs of delete_letter('at') is {len(delete_letter('at'))}\")"
   ]
  },
  {
   "cell_type": "code",
   "execution_count": 11,
   "id": "48e66020",
   "metadata": {},
   "outputs": [],
   "source": [
    "def switch_letter(word, verbose=False):\n",
    "    switch_l = []\n",
    "    split_l = []\n",
    "    len_word = len(word)\n",
    "\n",
    "    for c in range(len_word):\n",
    "        split_l.append((word[:c], word[c:]))\n",
    "        \n",
    "    switch_l = [a + b[1] + b[0] + b[2:] for a,b in split_l if len(b) >= 2]\n",
    "\n",
    "    \n",
    "    if verbose: \n",
    "        print(f\"Input word = {word} \\nsplit_l = {split_l} \\nswitch_l = {switch_l}\") \n",
    "\n",
    "    return switch_l"
   ]
  },
  {
   "cell_type": "code",
   "execution_count": 12,
   "id": "4528c5dc",
   "metadata": {},
   "outputs": [
    {
     "name": "stdout",
     "output_type": "stream",
     "text": [
      "Input word = eta \n",
      "split_l = [('', 'eta'), ('e', 'ta'), ('et', 'a')] \n",
      "switch_l = ['tea', 'eat']\n"
     ]
    }
   ],
   "source": [
    "switch_word_l = switch_letter(word = \"eta\", verbose = True)"
   ]
  },
  {
   "cell_type": "code",
   "execution_count": 13,
   "id": "8d9088fc",
   "metadata": {},
   "outputs": [
    {
     "name": "stdout",
     "output_type": "stream",
     "text": [
      "Number of outputs of switch_letter('at') is 1\n"
     ]
    }
   ],
   "source": [
    "print(f\"Number of outputs of switch_letter('at') is {len(switch_letter('at'))}\")"
   ]
  },
  {
   "cell_type": "code",
   "execution_count": 14,
   "id": "a3e6c30b",
   "metadata": {},
   "outputs": [],
   "source": [
    "def replace_letter(word, verbose=False):    \n",
    "    letters = 'abcdefghijklmnopqrstuvwxyz'\n",
    "    replace_l = []\n",
    "    split_l = []\n",
    "    \n",
    "    for c in range(len(word)):\n",
    "        split_l.append((word[0:c],word[c:]))\n",
    "    \n",
    "    replace_l = [a + l + (b[1:] if len(b)> 1 else '') for a,b in split_l if b for l in letters]\n",
    "    replace_set=set(replace_l)\n",
    "    replace_set.remove(word)\n",
    "    replace_l = sorted(list(replace_set))\n",
    "    \n",
    "    if verbose: \n",
    "        print(f\"Input word = {word} \\nsplit_l = {split_l} \\nreplace_l {replace_l}\")   \n",
    "    \n",
    "    return replace_l"
   ]
  },
  {
   "cell_type": "code",
   "execution_count": 15,
   "id": "e9e311fa",
   "metadata": {},
   "outputs": [
    {
     "name": "stdout",
     "output_type": "stream",
     "text": [
      "Input word = pan \n",
      "split_l = [('', 'pan'), ('p', 'an'), ('pa', 'n')] \n",
      "replace_l ['aan', 'ban', 'can', 'dan', 'ean', 'fan', 'gan', 'han', 'ian', 'jan', 'kan', 'lan', 'man', 'nan', 'oan', 'paa', 'pab', 'pac', 'pad', 'pae', 'paf', 'pag', 'pah', 'pai', 'paj', 'pak', 'pal', 'pam', 'pao', 'pap', 'paq', 'par', 'pas', 'pat', 'pau', 'pav', 'paw', 'pax', 'pay', 'paz', 'pbn', 'pcn', 'pdn', 'pen', 'pfn', 'pgn', 'phn', 'pin', 'pjn', 'pkn', 'pln', 'pmn', 'pnn', 'pon', 'ppn', 'pqn', 'prn', 'psn', 'ptn', 'pun', 'pvn', 'pwn', 'pxn', 'pyn', 'pzn', 'qan', 'ran', 'san', 'tan', 'uan', 'van', 'wan', 'xan', 'yan', 'zan']\n"
     ]
    }
   ],
   "source": [
    "replace_l = replace_letter(word = 'pan', verbose = True)"
   ]
  },
  {
   "cell_type": "code",
   "execution_count": 16,
   "id": "098ba669",
   "metadata": {},
   "outputs": [
    {
     "name": "stdout",
     "output_type": "stream",
     "text": [
      "Number of outputs of switch_letter('at') is 1\n"
     ]
    }
   ],
   "source": [
    "print(f\"Number of outputs of switch_letter('at') is {len(switch_letter('at'))}\")"
   ]
  },
  {
   "cell_type": "code",
   "execution_count": 17,
   "id": "81e8c7c9",
   "metadata": {},
   "outputs": [],
   "source": [
    "def insert_letter(word, verbose=False):\n",
    "    letters = 'abcdefghijklmnopqrstuvwxyz'\n",
    "    insert_l = []\n",
    "    split_l = []\n",
    "\n",
    "    for c in range(len(word)+1):\n",
    "        split_l.append((word[0:c],word[c:]))\n",
    "        \n",
    "    insert_l = [ a + l + b for a,b in split_l for l in letters]\n",
    "\n",
    "    if verbose: \n",
    "        print(f\"Input word {word} \\nsplit_l = {split_l} \\ninsert_l = {insert_l}\")\n",
    "    \n",
    "    return insert_l"
   ]
  },
  {
   "cell_type": "code",
   "execution_count": 18,
   "id": "4f8d8797",
   "metadata": {},
   "outputs": [
    {
     "name": "stdout",
     "output_type": "stream",
     "text": [
      "Input word at \n",
      "split_l = [('', 'at'), ('a', 't'), ('at', '')] \n",
      "insert_l = ['aat', 'bat', 'cat', 'dat', 'eat', 'fat', 'gat', 'hat', 'iat', 'jat', 'kat', 'lat', 'mat', 'nat', 'oat', 'pat', 'qat', 'rat', 'sat', 'tat', 'uat', 'vat', 'wat', 'xat', 'yat', 'zat', 'aat', 'abt', 'act', 'adt', 'aet', 'aft', 'agt', 'aht', 'ait', 'ajt', 'akt', 'alt', 'amt', 'ant', 'aot', 'apt', 'aqt', 'art', 'ast', 'att', 'aut', 'avt', 'awt', 'axt', 'ayt', 'azt', 'ata', 'atb', 'atc', 'atd', 'ate', 'atf', 'atg', 'ath', 'ati', 'atj', 'atk', 'atl', 'atm', 'atn', 'ato', 'atp', 'atq', 'atr', 'ats', 'att', 'atu', 'atv', 'atw', 'atx', 'aty', 'atz']\n",
      "Number of strings output by insert_letter('at') is 78\n"
     ]
    }
   ],
   "source": [
    "insert_l = insert_letter('at', True)\n",
    "print(f\"Number of strings output by insert_letter('at') is {len(insert_l)}\")"
   ]
  },
  {
   "cell_type": "code",
   "execution_count": 19,
   "id": "1cdf101e",
   "metadata": {},
   "outputs": [
    {
     "name": "stdout",
     "output_type": "stream",
     "text": [
      "Number of outputs of insert_letter('at') is 78\n"
     ]
    }
   ],
   "source": [
    "print(f\"Number of outputs of insert_letter('at') is {len(insert_letter('at'))}\")"
   ]
  },
  {
   "cell_type": "markdown",
   "id": "61473268",
   "metadata": {},
   "source": [
    "# Combining the edits"
   ]
  },
  {
   "cell_type": "markdown",
   "id": "5c864496",
   "metadata": {},
   "source": [
    "## Edit one letters"
   ]
  },
  {
   "cell_type": "code",
   "execution_count": 20,
   "id": "14f451b4",
   "metadata": {},
   "outputs": [],
   "source": [
    "def edit_one_letter(word, allow_switches = True):\n",
    "    edit_one_set = set()\n",
    "    edit_one_set.update(delete_letter(word))\n",
    "    \n",
    "    if allow_switches:\n",
    "        edit_one_set.update(switch_letter(word))\n",
    "        \n",
    "    edit_one_set.update(replace_letter(word))\n",
    "    edit_one_set.update(insert_letter(word))\n",
    "\n",
    "    return edit_one_set"
   ]
  },
  {
   "cell_type": "code",
   "execution_count": 21,
   "id": "6118a9dc",
   "metadata": {},
   "outputs": [
    {
     "name": "stdout",
     "output_type": "stream",
     "text": [
      "input word at \n",
      "edit_one_l \n",
      "['a', 'aa', 'aat', 'ab', 'abt', 'ac', 'act', 'ad', 'adt', 'ae', 'aet', 'af', 'aft', 'ag', 'agt', 'ah', 'aht', 'ai', 'ait', 'aj', 'ajt', 'ak', 'akt', 'al', 'alt', 'am', 'amt', 'an', 'ant', 'ao', 'aot', 'ap', 'apt', 'aq', 'aqt', 'ar', 'art', 'as', 'ast', 'ata', 'atb', 'atc', 'atd', 'ate', 'atf', 'atg', 'ath', 'ati', 'atj', 'atk', 'atl', 'atm', 'atn', 'ato', 'atp', 'atq', 'atr', 'ats', 'att', 'atu', 'atv', 'atw', 'atx', 'aty', 'atz', 'au', 'aut', 'av', 'avt', 'aw', 'awt', 'ax', 'axt', 'ay', 'ayt', 'az', 'azt', 'bat', 'bt', 'cat', 'ct', 'dat', 'dt', 'eat', 'et', 'fat', 'ft', 'gat', 'gt', 'hat', 'ht', 'iat', 'it', 'jat', 'jt', 'kat', 'kt', 'lat', 'lt', 'mat', 'mt', 'nat', 'nt', 'oat', 'ot', 'pat', 'pt', 'qat', 'qt', 'rat', 'rt', 'sat', 'st', 't', 'ta', 'tat', 'tt', 'uat', 'ut', 'vat', 'vt', 'wat', 'wt', 'xat', 'xt', 'yat', 'yt', 'zat', 'zt']\n",
      "\n",
      "The type of the returned object should be a set <class 'set'>\n",
      "Number of outputs from edit_one_letter('at') is 129\n"
     ]
    }
   ],
   "source": [
    "tmp_word = \"at\"\n",
    "tmp_edit_one_set = edit_one_letter(tmp_word)\n",
    "tmp_edit_one_l = sorted(list(tmp_edit_one_set))\n",
    "\n",
    "print(f\"input word {tmp_word} \\nedit_one_l \\n{tmp_edit_one_l}\\n\")\n",
    "print(f\"The type of the returned object should be a set {type(tmp_edit_one_set)}\")\n",
    "print(f\"Number of outputs from edit_one_letter('at') is {len(edit_one_letter('at'))}\")"
   ]
  },
  {
   "cell_type": "markdown",
   "id": "8125ca04",
   "metadata": {},
   "source": [
    "## Edit two letters"
   ]
  },
  {
   "cell_type": "code",
   "execution_count": 22,
   "id": "67fa9a1e",
   "metadata": {},
   "outputs": [],
   "source": [
    "def edit_two_letters(word, allow_switches = True):\n",
    "    edit_two_set = set()\n",
    "    edit_one = edit_one_letter(word, allow_switches = allow_switches)\n",
    "    \n",
    "    for w in edit_one:\n",
    "        if w:\n",
    "            edit_two = edit_one_letter(w,allow_switches=allow_switches)\n",
    "            edit_two_set.update(edit_two)\n",
    "    \n",
    "    return edit_two_set"
   ]
  },
  {
   "cell_type": "code",
   "execution_count": 23,
   "id": "cac34da0",
   "metadata": {},
   "outputs": [
    {
     "name": "stdout",
     "output_type": "stream",
     "text": [
      "Number of strings with edit distance of two: 2654\n",
      "First 10 strings ['', 'a', 'aa', 'aaa', 'aab', 'aac', 'aad', 'aae', 'aaf', 'aag']\n",
      "Last 10 strings ['zv', 'zva', 'zw', 'zwa', 'zx', 'zxa', 'zy', 'zya', 'zz', 'zza']\n",
      "The data type of the returned object should be a set <class 'set'>\n",
      "Number of strings that are 2 edit distances from 'at' is 7154\n"
     ]
    }
   ],
   "source": [
    "tmp_edit_two_set = edit_two_letters(\"a\")\n",
    "tmp_edit_two_l = sorted(list(tmp_edit_two_set))\n",
    "\n",
    "print(f\"Number of strings with edit distance of two: {len(tmp_edit_two_l)}\")\n",
    "print(f\"First 10 strings {tmp_edit_two_l[:10]}\")\n",
    "print(f\"Last 10 strings {tmp_edit_two_l[-10:]}\")\n",
    "\n",
    "print(f\"The data type of the returned object should be a set {type(tmp_edit_two_set)}\")\n",
    "print(f\"Number of strings that are 2 edit distances from 'at' is {len(edit_two_letters('at'))}\")"
   ]
  },
  {
   "cell_type": "markdown",
   "id": "38e4f320",
   "metadata": {},
   "source": [
    "## Suggesting Spelling Correction"
   ]
  },
  {
   "cell_type": "code",
   "execution_count": 24,
   "id": "c4957282",
   "metadata": {},
   "outputs": [
    {
     "name": "stdout",
     "output_type": "stream",
     "text": [
      "[]\n",
      "['a', 'b']\n",
      "['Most', 'Likely']\n",
      "['least', 'of', 'all']\n"
     ]
    }
   ],
   "source": [
    "print( [] and [\"a\",\"b\"] )\n",
    "print( [] or [\"a\",\"b\"] )\n",
    "\n",
    "val1 =  [\"Most\",\"Likely\"] or [\"Less\",\"so\"] or [\"least\",\"of\",\"all\"] \n",
    "print(val1)\n",
    "\n",
    "val2 =  [] or [] or [\"least\",\"of\",\"all\"]\n",
    "print(val2)"
   ]
  },
  {
   "cell_type": "code",
   "execution_count": 25,
   "id": "a17f3163",
   "metadata": {},
   "outputs": [],
   "source": [
    "def get_corrections(word, probs, vocab, n=2, verbose = False):\n",
    "    suggestions = []\n",
    "    n_best = []\n",
    "    \n",
    "    suggestions = list((word in vocab and word) or edit_one_letter(word).intersection(vocab) or edit_two_letters(word).intersection(vocab))\n",
    "    n_best = [[s, probs[s]] for s in list(reversed(suggestions))]\n",
    "    \n",
    "    if verbose: \n",
    "        print(\"entered word = \", word, \"\\nsuggestions = \", suggestions)\n",
    "\n",
    "    return n_best"
   ]
  },
  {
   "cell_type": "code",
   "execution_count": 26,
   "id": "3f912761",
   "metadata": {},
   "outputs": [
    {
     "name": "stdout",
     "output_type": "stream",
     "text": [
      "entered word =  dys \n",
      "suggestions =  ['dye', 'days']\n",
      "word 0: days, probability 0.000410\n",
      "word 1: dye, probability 0.000019\n",
      "data type of corrections <class 'list'>\n"
     ]
    }
   ],
   "source": [
    "my_word = 'dys' \n",
    "tmp_corrections = get_corrections(my_word, probs, vocab, 2, verbose=True)\n",
    "for i, word_prob in enumerate(tmp_corrections):\n",
    "    print(f\"word {i}: {word_prob[0]}, probability {word_prob[1]:.6f}\")\n",
    "\n",
    "print(f\"data type of corrections {type(tmp_corrections)}\")"
   ]
  },
  {
   "cell_type": "markdown",
   "id": "95561f5c",
   "metadata": {},
   "source": [
    "# Minimum Edit distance"
   ]
  },
  {
   "cell_type": "code",
   "execution_count": 27,
   "id": "04ec1f15",
   "metadata": {},
   "outputs": [],
   "source": [
    "def min_edit_distance(source, target, ins_cost = 1, del_cost = 1, rep_cost = 2):\n",
    "    m = len(source) \n",
    "    n = len(target) \n",
    "\n",
    "    D = np.zeros((m+1, n+1), dtype=int) \n",
    "    \n",
    "    for row in range(1, m + 1):\n",
    "        D[row,0] = D[row - 1, 0] + del_cost\n",
    "        \n",
    "    for col in range(1, n + 1):\n",
    "        D[0,col] = D[0, col - 1] + ins_cost\n",
    "        \n",
    "    for row in range(1, m + 1): \n",
    "        for col in range(1, n + 1):\n",
    "            r_cost = rep_cost\n",
    "            \n",
    "            if source[row - 1] == target[col - 1]:\n",
    "                r_cost = 0\n",
    "            \n",
    "            D[row,col] = min([D[row - 1, col] + del_cost, D[row, col - 1] + ins_cost, D[row - 1, col - 1] + r_cost])\n",
    "          \n",
    "    med = D[m, n]\n",
    "\n",
    "    return D, med"
   ]
  },
  {
   "cell_type": "code",
   "execution_count": 28,
   "id": "cf7ab321",
   "metadata": {},
   "outputs": [
    {
     "name": "stdout",
     "output_type": "stream",
     "text": [
      "minimum edits:  2 \n",
      "\n",
      "   #  w  a  h  t\n",
      "#  0  1  2  3  4\n",
      "w  1  0  1  2  3\n",
      "h  2  1  2  1  2\n",
      "a  3  2  1  2  3\n",
      "t  4  3  2  3  2\n"
     ]
    }
   ],
   "source": [
    "source =  'what'\n",
    "target = 'waht'\n",
    "matrix, min_edits = min_edit_distance(source, target)\n",
    "print(\"minimum edits: \",min_edits, \"\\n\")\n",
    "\n",
    "idx = list('#' + source)\n",
    "cols = list('#' + target)\n",
    "df = pd.DataFrame(matrix, index=idx, columns= cols)\n",
    "print(df)"
   ]
  },
  {
   "cell_type": "code",
   "execution_count": 29,
   "id": "ea71c721",
   "metadata": {},
   "outputs": [
    {
     "name": "stdout",
     "output_type": "stream",
     "text": [
      "minimum edits:  2 \n",
      "\n",
      "   #  m  e  k  e\n",
      "#  0  1  2  3  4\n",
      "m  1  0  1  2  3\n",
      "a  2  1  2  3  4\n",
      "k  3  2  3  2  3\n",
      "e  4  3  2  3  2\n"
     ]
    }
   ],
   "source": [
    "source =  'make'\n",
    "target = 'meke'\n",
    "matrix, min_edits = min_edit_distance(source, target)\n",
    "print(\"minimum edits: \",min_edits, \"\\n\")\n",
    "\n",
    "idx = list(source)\n",
    "idx.insert(0, '#')\n",
    "cols = list(target)\n",
    "cols.insert(0, '#')\n",
    "df = pd.DataFrame(matrix, index=idx, columns= cols)\n",
    "print(df)"
   ]
  },
  {
   "cell_type": "code",
   "execution_count": 30,
   "id": "1eb5269d",
   "metadata": {},
   "outputs": [],
   "source": [
    "source = \"ake\"\n",
    "targets = edit_one_letter(source,allow_switches = False)\n",
    "\n",
    "for t in targets:\n",
    "    _, min_edits = min_edit_distance(source, t,1,1,1)\n",
    "    if min_edits != 1: print(source, t, min_edits)"
   ]
  },
  {
   "cell_type": "code",
   "execution_count": 31,
   "id": "ba0e431d",
   "metadata": {},
   "outputs": [
    {
     "name": "stdout",
     "output_type": "stream",
     "text": [
      "ake ake 0\n"
     ]
    }
   ],
   "source": [
    "source = \"ake\"\n",
    "targets = edit_two_letters(source,allow_switches = False)\n",
    "\n",
    "for t in targets:\n",
    "    _, min_edits = min_edit_distance(source, t,1,1,1)\n",
    "    if min_edits != 2 and min_edits != 1: print(source, t, min_edits)"
   ]
  }
 ],
 "metadata": {
  "kernelspec": {
   "display_name": "Python 3 (ipykernel)",
   "language": "python",
   "name": "python3"
  },
  "language_info": {
   "codemirror_mode": {
    "name": "ipython",
    "version": 3
   },
   "file_extension": ".py",
   "mimetype": "text/x-python",
   "name": "python",
   "nbconvert_exporter": "python",
   "pygments_lexer": "ipython3",
   "version": "3.9.7"
  }
 },
 "nbformat": 4,
 "nbformat_minor": 5
}
